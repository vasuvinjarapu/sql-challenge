{
 "cells": [
  {
   "cell_type": "code",
   "execution_count": 1,
   "metadata": {},
   "outputs": [],
   "source": [
    "from sqlalchemy import create_engine\n",
    "engine = create_engine('postgresql+psycopg2://<username>:<password>@<hostname>/<database_name>')\n",
    "connection = engine.connect()"
   ]
  },
  {
   "cell_type": "code",
   "execution_count": 2,
   "metadata": {},
   "outputs": [
    {
     "name": "stdout",
     "output_type": "stream",
     "text": [
      "ERROR! Session/line number was not unique in database. History logging moved to new session 57\n"
     ]
    }
   ],
   "source": [
    "import pandas as pd\n",
    "import matplotlib.pyplot as plt\n",
    "\n",
    "salary_df = pd.read_sql_query(\n",
    "    \"\"\"\n",
    "    SELECT * FROM salaries\n",
    "    \"\"\", \n",
    "    connection\n",
    ")\n",
    "\n",
    "title_salary_df = pd.read_sql_query(\n",
    "    \"\"\"\n",
    "    SELECT s.emp_no, s.salary, t.title FROM salaries s JOIN titles t ON s.emp_no = t.emp_no;\n",
    "    \"\"\", \n",
    "    connection\n",
    ")"
   ]
  },
  {
   "cell_type": "code",
   "execution_count": null,
   "metadata": {},
   "outputs": [],
   "source": [
    "# Create a histogram to visualize the most common salary ranges for employees.\n",
    "plt.hist(salary_df['salary'])\n",
    "plt.title(\"Salary Ranges for Employees\")\n",
    "plt.xlabel(\"Salary\")\n",
    "plt.ylabel(\"Number of Employees\")\n",
    "plt.show()"
   ]
  },
  {
   "cell_type": "code",
   "execution_count": null,
   "metadata": {},
   "outputs": [],
   "source": [
    "# Create a bar chart of average salary by title.\n",
    "title_gb = title_salary_df.groupby(['title'])\n",
    "avg_salary = round(title_gb['salary'].mean(), 2)\n",
    "\n",
    "plt.figure(figsize=(20, 4))\n",
    "plt.bar(avg_salary.index, avg_salary)\n",
    "plt.title(\"Avg Salary by Title\")\n",
    "plt.xlabel(\"Title\")\n",
    "plt.ylabel(\"Avg Salary\")\n",
    "plt.show()"
   ]
  }
 ],
 "metadata": {
  "interpreter": {
   "hash": "916dbcbb3f70747c44a77c7bcd40155683ae19c65e1c03b4aa3499c5328201f1"
  },
  "kernelspec": {
   "display_name": "Python 3.8.10 64-bit",
   "language": "python",
   "name": "python3"
  },
  "language_info": {
   "codemirror_mode": {
    "name": "ipython",
    "version": 3
   },
   "file_extension": ".py",
   "mimetype": "text/x-python",
   "name": "python",
   "nbconvert_exporter": "python",
   "pygments_lexer": "ipython3",
   "version": "3.8.10"
  },
  "orig_nbformat": 4
 },
 "nbformat": 4,
 "nbformat_minor": 2
}
